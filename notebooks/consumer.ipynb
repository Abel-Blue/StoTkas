{
 "cells": [
  {
   "cell_type": "code",
   "execution_count": 3,
   "metadata": {},
   "outputs": [],
   "source": [
    "import sys\n",
    "import os\n",
    "from json import dumps, loads\n",
    "sys.path.append(os.path.abspath(os.path.join('../scripts')))\n",
    "sys.path.insert(0, '../scripts/')\n",
    "sys.path.insert(0, '../logs/')\n",
    "sys.path.append(os.path.abspath(os.path.join('..')))\n",
    "from kafka_python_client import KafkaClient"
   ]
  },
  {
   "cell_type": "code",
   "execution_count": 4,
   "metadata": {},
   "outputs": [
    {
     "name": "stdout",
     "output_type": "stream",
     "text": [
      "\t1 - localhost:9092\n",
      "\t2 - localhost:9093\n",
      "\t3 - localhost:9094\n"
     ]
    }
   ],
   "source": [
    "kf_client = KafkaClient(\n",
    "    'milkyb',\n",
    "    [\n",
    "        'localhost:9092',\n",
    "        'localhost:9093',\n",
    "        'localhost:9094'\n",
    "    ]\n",
    ")"
   ]
  },
  {
   "cell_type": "code",
   "execution_count": 5,
   "metadata": {},
   "outputs": [],
   "source": [
    "kf_client.create_admin_client()"
   ]
  },
  {
   "cell_type": "code",
   "execution_count": 6,
   "metadata": {},
   "outputs": [
    {
     "name": "stdout",
     "output_type": "stream",
     "text": [
      "[]\n"
     ]
    }
   ],
   "source": [
    "print(kf_client.get_topics())"
   ]
  },
  {
   "cell_type": "code",
   "execution_count": null,
   "metadata": {},
   "outputs": [],
   "source": []
  }
 ],
 "metadata": {
  "kernelspec": {
   "display_name": "Python 3.7.10 ('venv': venv)",
   "language": "python",
   "name": "python3"
  },
  "language_info": {
   "codemirror_mode": {
    "name": "ipython",
    "version": 3
   },
   "file_extension": ".py",
   "mimetype": "text/x-python",
   "name": "python",
   "nbconvert_exporter": "python",
   "pygments_lexer": "ipython3",
   "version": "3.7.10"
  },
  "orig_nbformat": 4,
  "vscode": {
   "interpreter": {
    "hash": "4f9214e18a48aa364c10c79306e38d719ccf6d53001c1a0ba8771dd8d1ae734d"
   }
  }
 },
 "nbformat": 4,
 "nbformat_minor": 2
}
