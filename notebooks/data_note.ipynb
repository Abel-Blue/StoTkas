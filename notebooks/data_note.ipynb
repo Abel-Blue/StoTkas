{
 "cells": [
  {
   "cell_type": "code",
   "execution_count": 6,
   "metadata": {},
   "outputs": [],
   "source": [
    "import warnings\n",
    "# ignore all warnings\n",
    "warnings.filterwarnings('ignore')\n",
    "import dvc.api"
   ]
  },
  {
   "cell_type": "code",
   "execution_count": 10,
   "metadata": {},
   "outputs": [
    {
     "ename": "NoRemoteInExternalRepoError",
     "evalue": "No DVC remote is specified in target repository 'https://github.com/Speech-to-text-Kafka-Airflow-Spark/StoTkas'.",
     "output_type": "error",
     "traceback": [
      "\u001b[0;31m---------------------------------------------------------------------------\u001b[0m",
      "\u001b[0;31mNoRemoteError\u001b[0m                             Traceback (most recent call last)",
      "File \u001b[0;32m~/anaconda3/lib/python3.9/site-packages/dvc/external_repo.py:80\u001b[0m, in \u001b[0;36mexternal_repo\u001b[0;34m(url, rev, for_write, cache_dir, cache_types, **kwargs)\u001b[0m\n\u001b[1;32m     79\u001b[0m \u001b[39mtry\u001b[39;00m:\n\u001b[0;32m---> 80\u001b[0m     \u001b[39myield\u001b[39;00m repo\n\u001b[1;32m     81\u001b[0m \u001b[39mexcept\u001b[39;00m NoRemoteError \u001b[39mas\u001b[39;00m exc:\n",
      "File \u001b[0;32m~/anaconda3/lib/python3.9/site-packages/dvc/api/data.py:33\u001b[0m, in \u001b[0;36mget_url\u001b[0;34m(path, repo, rev, remote)\u001b[0m\n\u001b[1;32m     31\u001b[0m md5 \u001b[39m=\u001b[39m dvc_info[\u001b[39m\"\u001b[39m\u001b[39mmd5\u001b[39m\u001b[39m\"\u001b[39m]\n\u001b[0;32m---> 33\u001b[0m \u001b[39mreturn\u001b[39;00m dvc_repo\u001b[39m.\u001b[39;49mcloud\u001b[39m.\u001b[39;49mget_url_for(remote, checksum\u001b[39m=\u001b[39;49mmd5)\n",
      "File \u001b[0;32m~/anaconda3/lib/python3.9/site-packages/dvc/data_cloud.py:182\u001b[0m, in \u001b[0;36mDataCloud.get_url_for\u001b[0;34m(self, remote, checksum)\u001b[0m\n\u001b[1;32m    181\u001b[0m \u001b[39mdef\u001b[39;00m \u001b[39mget_url_for\u001b[39m(\u001b[39mself\u001b[39m, remote, checksum):\n\u001b[0;32m--> 182\u001b[0m     odb \u001b[39m=\u001b[39m \u001b[39mself\u001b[39;49m\u001b[39m.\u001b[39;49mget_remote_odb(remote)\n\u001b[1;32m    183\u001b[0m     path \u001b[39m=\u001b[39m odb\u001b[39m.\u001b[39moid_to_path(checksum)\n",
      "File \u001b[0;32m~/anaconda3/lib/python3.9/site-packages/dvc/data_cloud.py:56\u001b[0m, in \u001b[0;36mDataCloud.get_remote_odb\u001b[0;34m(self, name, command)\u001b[0m\n\u001b[1;32m     51\u001b[0m     error_msg \u001b[39m=\u001b[39m (\n\u001b[1;32m     52\u001b[0m         \u001b[39m\"\u001b[39m\u001b[39mno remote specified. Create a default remote with\u001b[39m\u001b[39m\\n\u001b[39;00m\u001b[39m\"\u001b[39m\n\u001b[1;32m     53\u001b[0m         \u001b[39m\"\u001b[39m\u001b[39m    dvc remote add -d <remote name> <remote url>\u001b[39m\u001b[39m\"\u001b[39m\n\u001b[1;32m     54\u001b[0m     )\n\u001b[0;32m---> 56\u001b[0m \u001b[39mraise\u001b[39;00m NoRemoteError(error_msg)\n",
      "\u001b[0;31mNoRemoteError\u001b[0m: config file error: no remote specified. Create a default remote with\n    dvc remote add -d <remote name> <remote url>",
      "\nThe above exception was the direct cause of the following exception:\n",
      "\u001b[0;31mNoRemoteInExternalRepoError\u001b[0m               Traceback (most recent call last)",
      "\u001b[1;32m/home/r/Documents/Week9/StoTkas/notebooks/data_note.ipynb Cell 2'\u001b[0m in \u001b[0;36m<cell line: 1>\u001b[0;34m()\u001b[0m\n\u001b[0;32m----> <a href='vscode-notebook-cell:/home/r/Documents/Week9/StoTkas/notebooks/data_note.ipynb#ch0000001?line=0'>1</a>\u001b[0m data_url \u001b[39m=\u001b[39m dvc\u001b[39m.\u001b[39;49mapi\u001b[39m.\u001b[39;49mget_url(\n\u001b[1;32m      <a href='vscode-notebook-cell:/home/r/Documents/Week9/StoTkas/notebooks/data_note.ipynb#ch0000001?line=1'>2</a>\u001b[0m     path \u001b[39m=\u001b[39;49m \u001b[39m'\u001b[39;49m\u001b[39mdata/AmharicNews.csv\u001b[39;49m\u001b[39m'\u001b[39;49m,\n\u001b[1;32m      <a href='vscode-notebook-cell:/home/r/Documents/Week9/StoTkas/notebooks/data_note.ipynb#ch0000001?line=2'>3</a>\u001b[0m     repo \u001b[39m=\u001b[39;49m \u001b[39m'\u001b[39;49m\u001b[39mhttps://github.com/Speech-to-text-Kafka-Airflow-Spark/StoTkas\u001b[39;49m\u001b[39m'\u001b[39;49m,\n\u001b[1;32m      <a href='vscode-notebook-cell:/home/r/Documents/Week9/StoTkas/notebooks/data_note.ipynb#ch0000001?line=3'>4</a>\u001b[0m     rev \u001b[39m=\u001b[39;49m \u001b[39m'\u001b[39;49m\u001b[39mae13e0eeab309966510d23945d96f76124811fa0\u001b[39;49m\u001b[39m'\u001b[39;49m\n\u001b[1;32m      <a href='vscode-notebook-cell:/home/r/Documents/Week9/StoTkas/notebooks/data_note.ipynb#ch0000001?line=4'>5</a>\u001b[0m )\n",
      "File \u001b[0;32m~/anaconda3/lib/python3.9/site-packages/dvc/api/data.py:33\u001b[0m, in \u001b[0;36mget_url\u001b[0;34m(path, repo, rev, remote)\u001b[0m\n\u001b[1;32m     30\u001b[0m dvc_repo \u001b[39m=\u001b[39m info[\u001b[39m\"\u001b[39m\u001b[39mrepo\u001b[39m\u001b[39m\"\u001b[39m]\n\u001b[1;32m     31\u001b[0m md5 \u001b[39m=\u001b[39m dvc_info[\u001b[39m\"\u001b[39m\u001b[39mmd5\u001b[39m\u001b[39m\"\u001b[39m]\n\u001b[0;32m---> 33\u001b[0m \u001b[39mreturn\u001b[39;00m dvc_repo\u001b[39m.\u001b[39mcloud\u001b[39m.\u001b[39mget_url_for(remote, checksum\u001b[39m=\u001b[39mmd5)\n",
      "File \u001b[0;32m~/anaconda3/lib/python3.9/contextlib.py:137\u001b[0m, in \u001b[0;36m_GeneratorContextManager.__exit__\u001b[0;34m(self, typ, value, traceback)\u001b[0m\n\u001b[1;32m    135\u001b[0m     value \u001b[39m=\u001b[39m typ()\n\u001b[1;32m    136\u001b[0m \u001b[39mtry\u001b[39;00m:\n\u001b[0;32m--> 137\u001b[0m     \u001b[39mself\u001b[39;49m\u001b[39m.\u001b[39;49mgen\u001b[39m.\u001b[39;49mthrow(typ, value, traceback)\n\u001b[1;32m    138\u001b[0m \u001b[39mexcept\u001b[39;00m \u001b[39mStopIteration\u001b[39;00m \u001b[39mas\u001b[39;00m exc:\n\u001b[1;32m    139\u001b[0m     \u001b[39m# Suppress StopIteration *unless* it's the same exception that\u001b[39;00m\n\u001b[1;32m    140\u001b[0m     \u001b[39m# was passed to throw().  This prevents a StopIteration\u001b[39;00m\n\u001b[1;32m    141\u001b[0m     \u001b[39m# raised inside the \"with\" statement from being suppressed.\u001b[39;00m\n\u001b[1;32m    142\u001b[0m     \u001b[39mreturn\u001b[39;00m exc \u001b[39mis\u001b[39;00m \u001b[39mnot\u001b[39;00m value\n",
      "File \u001b[0;32m~/anaconda3/lib/python3.9/site-packages/dvc/external_repo.py:82\u001b[0m, in \u001b[0;36mexternal_repo\u001b[0;34m(url, rev, for_write, cache_dir, cache_types, **kwargs)\u001b[0m\n\u001b[1;32m     80\u001b[0m     \u001b[39myield\u001b[39;00m repo\n\u001b[1;32m     81\u001b[0m \u001b[39mexcept\u001b[39;00m NoRemoteError \u001b[39mas\u001b[39;00m exc:\n\u001b[0;32m---> 82\u001b[0m     \u001b[39mraise\u001b[39;00m NoRemoteInExternalRepoError(url) \u001b[39mfrom\u001b[39;00m \u001b[39mexc\u001b[39;00m\n\u001b[1;32m     83\u001b[0m \u001b[39mexcept\u001b[39;00m OutputNotFoundError \u001b[39mas\u001b[39;00m exc:\n\u001b[1;32m     84\u001b[0m     \u001b[39mif\u001b[39;00m exc\u001b[39m.\u001b[39mrepo \u001b[39mis\u001b[39;00m repo:\n",
      "\u001b[0;31mNoRemoteInExternalRepoError\u001b[0m: No DVC remote is specified in target repository 'https://github.com/Speech-to-text-Kafka-Airflow-Spark/StoTkas'."
     ]
    }
   ],
   "source": [
    "data_url = dvc.api.get_url(\n",
    "    path = 'data/AmharicNews.csv',\n",
    "    repo = 'https://github.com/Speech-to-text-Kafka-Airflow-Spark/StoTkas',\n",
    "    rev = 'ae13e0eeab309966510d23945d96f76124811fa0'\n",
    ")\n",
    "# ae13e0eeab309966510d23945d96f76124811fa0"
   ]
  }
 ],
 "metadata": {
  "kernelspec": {
   "display_name": "Python 3.9.12 ('base')",
   "language": "python",
   "name": "python3"
  },
  "language_info": {
   "codemirror_mode": {
    "name": "ipython",
    "version": 3
   },
   "file_extension": ".py",
   "mimetype": "text/x-python",
   "name": "python",
   "nbconvert_exporter": "python",
   "pygments_lexer": "ipython3",
   "version": "3.9.12"
  },
  "orig_nbformat": 4,
  "vscode": {
   "interpreter": {
    "hash": "3313ba274cc4d57cc342bc6f137443179fb6bcb287f82adc76255f63b22d9df3"
   }
  }
 },
 "nbformat": 4,
 "nbformat_minor": 2
}
