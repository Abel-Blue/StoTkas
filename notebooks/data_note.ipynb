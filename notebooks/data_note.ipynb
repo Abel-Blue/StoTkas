{
 "cells": [
  {
   "cell_type": "code",
   "execution_count": 1,
   "metadata": {},
   "outputs": [],
   "source": [
    "import warnings\n",
    "# ignore all warnings\n",
    "warnings.filterwarnings('ignore')\n",
    "import dvc"
   ]
  },
  {
   "cell_type": "code",
   "execution_count": 5,
   "metadata": {},
   "outputs": [
    {
     "ename": "AttributeError",
     "evalue": "module 'dvc' has no attribute 'api'",
     "output_type": "error",
     "traceback": [
      "\u001b[0;31m---------------------------------------------------------------------------\u001b[0m",
      "\u001b[0;31mAttributeError\u001b[0m                            Traceback (most recent call last)",
      "\u001b[1;32m/home/r/Documents/Week9/StoTkas/notebooks/data_note.ipynb Cell 2'\u001b[0m in \u001b[0;36m<cell line: 1>\u001b[0;34m()\u001b[0m\n\u001b[0;32m----> <a href='vscode-notebook-cell:/home/r/Documents/Week9/StoTkas/notebooks/data_note.ipynb#ch0000001?line=0'>1</a>\u001b[0m data_url \u001b[39m=\u001b[39m dvc\u001b[39m.\u001b[39;49mapi\u001b[39m.\u001b[39mget_url(\n\u001b[1;32m      <a href='vscode-notebook-cell:/home/r/Documents/Week9/StoTkas/notebooks/data_note.ipynb#ch0000001?line=1'>2</a>\u001b[0m     path \u001b[39m=\u001b[39m \u001b[39m'\u001b[39m\u001b[39mdata/AmharicNews.csv\u001b[39m\u001b[39m'\u001b[39m,\n\u001b[1;32m      <a href='vscode-notebook-cell:/home/r/Documents/Week9/StoTkas/notebooks/data_note.ipynb#ch0000001?line=2'>3</a>\u001b[0m     repo \u001b[39m=\u001b[39m \u001b[39m'\u001b[39m\u001b[39mhttps://github.com/Speech-to-text-Kafka-Airflow-Spark/StoTkas\u001b[39m\u001b[39m'\u001b[39m,\n\u001b[1;32m      <a href='vscode-notebook-cell:/home/r/Documents/Week9/StoTkas/notebooks/data_note.ipynb#ch0000001?line=3'>4</a>\u001b[0m     rev \u001b[39m=\u001b[39m \u001b[39m'\u001b[39m\u001b[39mae13e0eeab309966510d23945d96f76124811fa0\u001b[39m\u001b[39m'\u001b[39m\n\u001b[1;32m      <a href='vscode-notebook-cell:/home/r/Documents/Week9/StoTkas/notebooks/data_note.ipynb#ch0000001?line=4'>5</a>\u001b[0m )\n",
      "\u001b[0;31mAttributeError\u001b[0m: module 'dvc' has no attribute 'api'"
     ]
    }
   ],
   "source": [
    "data_url = dvc.api.get_url(\n",
    "    path = 'data/AmharicNews.csv',\n",
    "    repo = 'https://github.com/Speech-to-text-Kafka-Airflow-Spark/StoTkas',\n",
    "    rev = 'ae13e0eeab309966510d23945d96f76124811fa0'\n",
    ")\n",
    "# ae13e0eeab309966510d23945d96f76124811fa0"
   ]
  }
 ],
 "metadata": {
  "kernelspec": {
   "display_name": "Python 3.9.12 ('base')",
   "language": "python",
   "name": "python3"
  },
  "language_info": {
   "codemirror_mode": {
    "name": "ipython",
    "version": 3
   },
   "file_extension": ".py",
   "mimetype": "text/x-python",
   "name": "python",
   "nbconvert_exporter": "python",
   "pygments_lexer": "ipython3",
   "version": "3.9.12"
  },
  "orig_nbformat": 4,
  "vscode": {
   "interpreter": {
    "hash": "3313ba274cc4d57cc342bc6f137443179fb6bcb287f82adc76255f63b22d9df3"
   }
  }
 },
 "nbformat": 4,
 "nbformat_minor": 2
}
